{
  "cells": [
    {
      "cell_type": "markdown",
      "metadata": {
        "id": "TobuzQl3LyhW"
      },
      "source": [
        "# Text summarizing with ChaptGPT\n",
        "In this lesson, you will summarize text with a focus on specific topics.\n",
        "\n",
        "## Setup"
      ]
    },
    {
      "cell_type": "code",
      "source": [
        "!pip install openai"
      ],
      "metadata": {
        "colab": {
          "base_uri": "https://localhost:8080/"
        },
        "id": "C3Tq2ezvMQbv",
        "outputId": "7f191336-4884-400e-c101-c031cffc348b"
      },
      "execution_count": 2,
      "outputs": [
        {
          "output_type": "stream",
          "name": "stdout",
          "text": [
            "Collecting openai\n",
            "  Downloading openai-1.34.0-py3-none-any.whl (325 kB)\n",
            "\u001b[?25l     \u001b[90m━━━━━━━━━━━━━━━━━━━━━━━━━━━━━━━━━━━━━━━━\u001b[0m \u001b[32m0.0/325.5 kB\u001b[0m \u001b[31m?\u001b[0m eta \u001b[36m-:--:--\u001b[0m\r\u001b[2K     \u001b[91m━━━━━━━━━━━━━━━\u001b[0m\u001b[90m╺\u001b[0m\u001b[90m━━━━━━━━━━━━━━━━━━━━━━━━\u001b[0m \u001b[32m122.9/325.5 kB\u001b[0m \u001b[31m3.6 MB/s\u001b[0m eta \u001b[36m0:00:01\u001b[0m\r\u001b[2K     \u001b[90m━━━━━━━━━━━━━━━━━━━━━━━━━━━━━━━━━━━━━━━━\u001b[0m \u001b[32m325.5/325.5 kB\u001b[0m \u001b[31m5.5 MB/s\u001b[0m eta \u001b[36m0:00:00\u001b[0m\n",
            "\u001b[?25hRequirement already satisfied: anyio<5,>=3.5.0 in /usr/local/lib/python3.10/dist-packages (from openai) (3.7.1)\n",
            "Requirement already satisfied: distro<2,>=1.7.0 in /usr/lib/python3/dist-packages (from openai) (1.7.0)\n",
            "Collecting httpx<1,>=0.23.0 (from openai)\n",
            "  Downloading httpx-0.27.0-py3-none-any.whl (75 kB)\n",
            "\u001b[2K     \u001b[90m━━━━━━━━━━━━━━━━━━━━━━━━━━━━━━━━━━━━━━━━\u001b[0m \u001b[32m75.6/75.6 kB\u001b[0m \u001b[31m9.5 MB/s\u001b[0m eta \u001b[36m0:00:00\u001b[0m\n",
            "\u001b[?25hRequirement already satisfied: pydantic<3,>=1.9.0 in /usr/local/lib/python3.10/dist-packages (from openai) (2.7.3)\n",
            "Requirement already satisfied: sniffio in /usr/local/lib/python3.10/dist-packages (from openai) (1.3.1)\n",
            "Requirement already satisfied: tqdm>4 in /usr/local/lib/python3.10/dist-packages (from openai) (4.66.4)\n",
            "Requirement already satisfied: typing-extensions<5,>=4.7 in /usr/local/lib/python3.10/dist-packages (from openai) (4.12.2)\n",
            "Requirement already satisfied: idna>=2.8 in /usr/local/lib/python3.10/dist-packages (from anyio<5,>=3.5.0->openai) (3.7)\n",
            "Requirement already satisfied: exceptiongroup in /usr/local/lib/python3.10/dist-packages (from anyio<5,>=3.5.0->openai) (1.2.1)\n",
            "Requirement already satisfied: certifi in /usr/local/lib/python3.10/dist-packages (from httpx<1,>=0.23.0->openai) (2024.6.2)\n",
            "Collecting httpcore==1.* (from httpx<1,>=0.23.0->openai)\n",
            "  Downloading httpcore-1.0.5-py3-none-any.whl (77 kB)\n",
            "\u001b[2K     \u001b[90m━━━━━━━━━━━━━━━━━━━━━━━━━━━━━━━━━━━━━━━━\u001b[0m \u001b[32m77.9/77.9 kB\u001b[0m \u001b[31m9.3 MB/s\u001b[0m eta \u001b[36m0:00:00\u001b[0m\n",
            "\u001b[?25hCollecting h11<0.15,>=0.13 (from httpcore==1.*->httpx<1,>=0.23.0->openai)\n",
            "  Downloading h11-0.14.0-py3-none-any.whl (58 kB)\n",
            "\u001b[2K     \u001b[90m━━━━━━━━━━━━━━━━━━━━━━━━━━━━━━━━━━━━━━━━\u001b[0m \u001b[32m58.3/58.3 kB\u001b[0m \u001b[31m7.4 MB/s\u001b[0m eta \u001b[36m0:00:00\u001b[0m\n",
            "\u001b[?25hRequirement already satisfied: annotated-types>=0.4.0 in /usr/local/lib/python3.10/dist-packages (from pydantic<3,>=1.9.0->openai) (0.7.0)\n",
            "Requirement already satisfied: pydantic-core==2.18.4 in /usr/local/lib/python3.10/dist-packages (from pydantic<3,>=1.9.0->openai) (2.18.4)\n",
            "Installing collected packages: h11, httpcore, httpx, openai\n",
            "Successfully installed h11-0.14.0 httpcore-1.0.5 httpx-0.27.0 openai-1.34.0\n"
          ]
        }
      ]
    },
    {
      "cell_type": "code",
      "execution_count": 3,
      "metadata": {
        "tags": [],
        "id": "Apl9qBYpLyhX"
      },
      "outputs": [],
      "source": [
        "from openai import OpenAI\n",
        "#import os\n",
        "\n",
        "#from dotenv import load_dotenv, find_dotenv\n",
        "#_ = load_dotenv(find_dotenv()) # read local .env file\n",
        "\n"
      ]
    },
    {
      "cell_type": "code",
      "source": [
        "from google.colab import userdata\n",
        "OPENAI_API_KEY = userdata.get('OPENAI_API_KEY')"
      ],
      "metadata": {
        "id": "V6Z62rFyL86G"
      },
      "execution_count": 4,
      "outputs": []
    },
    {
      "cell_type": "code",
      "execution_count": 5,
      "metadata": {
        "tags": [],
        "id": "GWcn8pwqLyhY"
      },
      "outputs": [],
      "source": [
        "client = OpenAI(\n",
        "    # This is the default and can be omitted\n",
        "    api_key=OPENAI_API_KEY,\n",
        ")\n",
        "\n",
        "\n",
        "def get_completion(prompt, model=\"gpt-3.5-turbo\"): # Andrew mentioned that the prompt/ completion paradigm is preferable for this class\n",
        "    messages = [{\"role\": \"user\", \"content\": prompt}]\n",
        "    response = client.chat.completions.create(\n",
        "        model=model,\n",
        "        messages=messages,\n",
        "        temperature=0, # this is the degree of randomness of the model's output\n",
        "    )\n",
        "    return response.choices[0].message.content\n"
      ]
    },
    {
      "cell_type": "markdown",
      "metadata": {
        "id": "kU_8H9oxLyhY"
      },
      "source": [
        "## Text to summarize"
      ]
    },
    {
      "cell_type": "code",
      "execution_count": 6,
      "metadata": {
        "tags": [],
        "id": "CYUaJAa5LyhZ"
      },
      "outputs": [],
      "source": [
        "prod_review = \"\"\"\n",
        "Got this panda plush toy for my daughter's birthday, \\\n",
        "who loves it and takes it everywhere. It's soft and \\\n",
        "super cute, and its face has a friendly look. It's \\\n",
        "a bit small for what I paid though. I think there \\\n",
        "might be other options that are bigger for the \\\n",
        "same price. It arrived a day earlier than expected, \\\n",
        "so I got to play with it myself before I gave it \\\n",
        "to her.\n",
        "\"\"\""
      ]
    },
    {
      "cell_type": "markdown",
      "metadata": {
        "id": "HSL-cQ1ELyhZ"
      },
      "source": [
        "## Summarize with a word/sentence/character limit"
      ]
    },
    {
      "cell_type": "code",
      "execution_count": 7,
      "metadata": {
        "tags": [],
        "colab": {
          "base_uri": "https://localhost:8080/"
        },
        "id": "iN3QjiTdLyhZ",
        "outputId": "da93a616-7dd3-40b7-f413-4258a19b870a"
      },
      "outputs": [
        {
          "output_type": "stream",
          "name": "stdout",
          "text": [
            "Soft, cute panda plush loved by daughter, but smaller than expected for the price. Arrived early, friendly face.\n"
          ]
        }
      ],
      "source": [
        "prompt = f\"\"\"\n",
        "Your task is to generate a short summary of a product \\\n",
        "review from an ecommerce site.\n",
        "\n",
        "Summarize the review below, delimited by triple\n",
        "backticks, in at most 30 words.\n",
        "\n",
        "Review: ```{prod_review}```\n",
        "\"\"\"\n",
        "\n",
        "response = get_completion(prompt)\n",
        "print(response)\n"
      ]
    },
    {
      "cell_type": "markdown",
      "metadata": {
        "id": "GVGwmszRLyha"
      },
      "source": [
        "## Summarize with a focus on shipping and delivery"
      ]
    },
    {
      "cell_type": "code",
      "execution_count": 8,
      "metadata": {
        "tags": [],
        "colab": {
          "base_uri": "https://localhost:8080/"
        },
        "id": "eexKcnAHLyha",
        "outputId": "cb809f19-90cc-4172-f866-75873f46bf4a"
      },
      "outputs": [
        {
          "output_type": "stream",
          "name": "stdout",
          "text": [
            "The customer was pleased with the early delivery of the panda plush toy, but felt it was slightly small for the price paid.\n"
          ]
        }
      ],
      "source": [
        "prompt = f\"\"\"\n",
        "Your task is to generate a short summary of a product \\\n",
        "review from an ecommerce site to give feedback to the \\\n",
        "Shipping deparmtment.\n",
        "\n",
        "Summarize the review below, delimited by triple\n",
        "backticks, in at most 30 words, and focusing on any aspects \\\n",
        "that mention shipping and delivery of the product.\n",
        "\n",
        "Review: ```{prod_review}```\n",
        "\"\"\"\n",
        "\n",
        "response = get_completion(prompt)\n",
        "print(response)\n"
      ]
    },
    {
      "cell_type": "markdown",
      "metadata": {
        "id": "22R-hOpiLyha"
      },
      "source": [
        "## Summarize with a focus on price and value"
      ]
    },
    {
      "cell_type": "code",
      "execution_count": 9,
      "metadata": {
        "tags": [],
        "colab": {
          "base_uri": "https://localhost:8080/"
        },
        "id": "iYZX3xHyLyha",
        "outputId": "2fd7409f-d489-42a2-cfa0-e5bf0c97d98e"
      },
      "outputs": [
        {
          "output_type": "stream",
          "name": "stdout",
          "text": [
            "The panda plush toy is loved for its softness and cuteness, but some customers feel it's a bit small for the price.\n"
          ]
        }
      ],
      "source": [
        "prompt = f\"\"\"\n",
        "Your task is to generate a short summary of a product \\\n",
        "review from an ecommerce site to give feedback to the \\\n",
        "pricing deparmtment, responsible for determining the \\\n",
        "price of the product.\n",
        "\n",
        "Summarize the review below, delimited by triple\n",
        "backticks, in at most 30 words, and focusing on any aspects \\\n",
        "that are relevant to the price and perceived value.\n",
        "\n",
        "Review: ```{prod_review}```\n",
        "\"\"\"\n",
        "\n",
        "response = get_completion(prompt)\n",
        "print(response)\n"
      ]
    },
    {
      "cell_type": "markdown",
      "metadata": {
        "id": "ykqI48fYLyha"
      },
      "source": [
        "#### Comment\n",
        "- Summaries include topics that are not related to the topic of focus."
      ]
    },
    {
      "cell_type": "markdown",
      "metadata": {
        "id": "-Uj_BuavLyhb"
      },
      "source": [
        "## Try \"extract\" instead of \"summarize\""
      ]
    },
    {
      "cell_type": "code",
      "execution_count": 10,
      "metadata": {
        "tags": [],
        "colab": {
          "base_uri": "https://localhost:8080/"
        },
        "id": "P2KB9_jpLyhb",
        "outputId": "c53d5615-53f5-4ca7-9c0b-636279f37b3e"
      },
      "outputs": [
        {
          "output_type": "stream",
          "name": "stdout",
          "text": [
            "Feedback: The product arrived a day earlier than expected, which was a pleasant surprise. Customers may appreciate faster shipping and delivery times.\n"
          ]
        }
      ],
      "source": [
        "prompt = f\"\"\"\n",
        "Your task is to extract relevant information from \\\n",
        "a product review from an ecommerce site to give \\\n",
        "feedback to the Shipping department.\n",
        "\n",
        "From the review below, delimited by triple quotes \\\n",
        "extract the information relevant to shipping and \\\n",
        "delivery. Limit to 30 words.\n",
        "\n",
        "Review: ```{prod_review}```\n",
        "\"\"\"\n",
        "\n",
        "response = get_completion(prompt)\n",
        "print(response)"
      ]
    },
    {
      "cell_type": "markdown",
      "metadata": {
        "id": "3vyo_Aj1Lyhb"
      },
      "source": [
        "## Summarize multiple product reviews"
      ]
    },
    {
      "cell_type": "code",
      "execution_count": 11,
      "metadata": {
        "tags": [],
        "id": "kPA9FjJALyhb"
      },
      "outputs": [],
      "source": [
        "\n",
        "review_1 = prod_review\n",
        "\n",
        "# review for a standing lamp\n",
        "review_2 = \"\"\"\n",
        "Needed a nice lamp for my bedroom, and this one \\\n",
        "had additional storage and not too high of a price \\\n",
        "point. Got it fast - arrived in 2 days. The string \\\n",
        "to the lamp broke during the transit and the company \\\n",
        "happily sent over a new one. Came within a few days \\\n",
        "as well. It was easy to put together. Then I had a \\\n",
        "missing part, so I contacted their support and they \\\n",
        "very quickly got me the missing piece! Seems to me \\\n",
        "to be a great company that cares about their customers \\\n",
        "and products.\n",
        "\"\"\"\n",
        "\n",
        "# review for an electric toothbrush\n",
        "review_3 = \"\"\"\n",
        "My dental hygienist recommended an electric toothbrush, \\\n",
        "which is why I got this. The battery life seems to be \\\n",
        "pretty impressive so far. After initial charging and \\\n",
        "leaving the charger plugged in for the first week to \\\n",
        "condition the battery, I've unplugged the charger and \\\n",
        "been using it for twice daily brushing for the last \\\n",
        "3 weeks all on the same charge. But the toothbrush head \\\n",
        "is too small. I’ve seen baby toothbrushes bigger than \\\n",
        "this one. I wish the head was bigger with different \\\n",
        "length bristles to get between teeth better because \\\n",
        "this one doesn’t.  Overall if you can get this one \\\n",
        "around the $50 mark, it's a good deal. The manufactuer's \\\n",
        "replacements heads are pretty expensive, but you can \\\n",
        "get generic ones that're more reasonably priced. This \\\n",
        "toothbrush makes me feel like I've been to the dentist \\\n",
        "every day. My teeth feel sparkly clean!\n",
        "\"\"\"\n",
        "\n",
        "# review for a blender\n",
        "review_4 = \"\"\"\n",
        "So, they still had the 17 piece system on seasonal \\\n",
        "sale for around $49 in the month of November, about \\\n",
        "half off, but for some reason (call it price gouging) \\\n",
        "around the second week of December the prices all went \\\n",
        "up to about anywhere from between $70-$89 for the same \\\n",
        "system. And the 11 piece system went up around $10 or \\\n",
        "so in price also from the earlier sale price of $29. \\\n",
        "So it looks okay, but if you look at the base, the part \\\n",
        "where the blade locks into place doesn’t look as good \\\n",
        "as in previous editions from a few years ago, but I \\\n",
        "plan to be very gentle with it (example, I crush \\\n",
        "very hard items like beans, ice, rice, etc. in the \\\n",
        "blender first then pulverize them in the serving size \\\n",
        "I want in the blender then switch to the whipping \\\n",
        "blade for a finer flour, and use the cross cutting blade \\\n",
        "first when making smoothies, then use the flat blade \\\n",
        "if I need them finer/less pulpy). Special tip when making \\\n",
        "smoothies, finely cut and freeze the fruits and \\\n",
        "vegetables (if using spinach-lightly stew soften the \\\n",
        "spinach then freeze until ready for use-and if making \\\n",
        "sorbet, use a small to medium sized food processor) \\\n",
        "that you plan to use that way you can avoid adding so \\\n",
        "much ice if at all-when making your smoothie. \\\n",
        "After about a year, the motor was making a funny noise. \\\n",
        "I called customer service but the warranty expired \\\n",
        "already, so I had to buy another one. FYI: The overall \\\n",
        "quality has gone done in these types of products, so \\\n",
        "they are kind of counting on brand recognition and \\\n",
        "consumer loyalty to maintain sales. Got it in about \\\n",
        "two days.\n",
        "\"\"\"\n",
        "\n",
        "reviews = [review_1, review_2, review_3, review_4]"
      ]
    },
    {
      "cell_type": "code",
      "execution_count": 12,
      "metadata": {
        "tags": [],
        "colab": {
          "base_uri": "https://localhost:8080/"
        },
        "id": "CLIyWAizLyhb",
        "outputId": "1a6e8bce-b211-4608-f338-275d0d72e248"
      },
      "outputs": [
        {
          "output_type": "stream",
          "name": "stdout",
          "text": [
            "0 Summary: \n",
            "Adorable panda plush loved by daughter, but small for price. Arrived early, soft and cute. \n",
            "\n",
            "1 Great lamp with storage, fast delivery, excellent customer service for missing parts. Easy to assemble. \n",
            "\n",
            "2 Impressive battery life, small toothbrush head, good deal for $50, feels like a daily dentist visit. \n",
            "\n",
            "3 17-piece system on sale for $49, price increased later. Base quality not as good, motor issues after a year. \n",
            "\n"
          ]
        }
      ],
      "source": [
        "for i in range(len(reviews)):\n",
        "    prompt = f\"\"\"\n",
        "    Your task is to generate a short summary of a product \\\n",
        "    review from an ecommerce site.\n",
        "\n",
        "    Summarize the review below, delimited by triple \\\n",
        "    backticks in at most 20 words.\n",
        "\n",
        "    Review: ```{reviews[i]}```\n",
        "    \"\"\"\n",
        "\n",
        "    response = get_completion(prompt)\n",
        "    print(i, response, \"\\n\")"
      ]
    },
    {
      "cell_type": "markdown",
      "metadata": {
        "id": "o83cMqqiLyhc"
      },
      "source": [
        "# Exercise\n",
        " - Complete the prompts similar to what we did in class.\n",
        "     - Try at least 3 versions\n",
        "     - Be creative\n",
        " - Write a one page report summarizing your findings.\n",
        "     - Were there variations that didn't work well? i.e., where GPT either hallucinated or wrong\n",
        " - What did you learn?"
      ]
    },
    {
      "cell_type": "code",
      "execution_count": 18,
      "metadata": {
        "id": "QRlFAzS0Lyhc"
      },
      "outputs": [],
      "source": [
        "def create_reviews(product):\n",
        "    prompt = f\"\"\"\n",
        "    You task is generate 4 reviews about {product}. \\\n",
        "    The reviews need to be at least 200 words long. \\\n",
        "    You will return each one separated by '|'. \\\n",
        "    I need raw text, without line breaks, quotes, numbers, etc. \\\n",
        "    Just the review text.\n",
        "    \"\"\"\n",
        "    response = get_completion(prompt)\n",
        "\n",
        "    reviews = response.split(\"|\")\n",
        "    return reviews\n",
        "\n",
        "\n",
        "def summarize_reviews(reviews, temperature):\n",
        "    summaries = []\n",
        "    for review in reviews:\n",
        "        prompt = f\"\"\"\n",
        "        Your task is to generate a short summary of a product \\\n",
        "        review from an ecommerce site.\n",
        "\n",
        "        Summarize the review below, delimited by triple \\\n",
        "        backticks in at most 20 words.\n",
        "\n",
        "        Review: ```{review}```\n",
        "        \"\"\"\n",
        "\n",
        "        response = get_completion(prompt)\n",
        "        print(response)\n"
      ]
    },
    {
      "cell_type": "code",
      "source": [
        "first_random_reviews = create_reviews(\"a standing lamp\")\n",
        "summarize_reviews(first_random_reviews, 0)"
      ],
      "metadata": {
        "colab": {
          "base_uri": "https://localhost:8080/"
        },
        "id": "dBvEZ1A9NQKk",
        "outputId": "a73c2d2f-36eb-44b7-b2eb-12fbf896545a"
      },
      "execution_count": 19,
      "outputs": [
        {
          "output_type": "stream",
          "name": "stdout",
          "text": [
            "Stunning standing lamp with adjustable height and warm light, perfect for adding elegance to any room. Highly recommended.\n",
            "Impressive quality, sturdy base, dimmable feature, minimalist design, long-lasting investment. Highly recommended for home decor.\n",
            "Stylish standing lamp with vibrant shade, adjustable neck, and energy-efficient LED bulb - a practical and colorful addition.\n",
            "Exceeded expectations with high-quality craftsmanship, modern design, and cozy ambiance. Highly recommended for stylish lighting solution.\n"
          ]
        }
      ]
    },
    {
      "cell_type": "code",
      "source": [
        "summarize_reviews(first_random_reviews, 1)"
      ],
      "metadata": {
        "colab": {
          "base_uri": "https://localhost:8080/"
        },
        "id": "kCGTXvrTN728",
        "outputId": "16a4579d-640a-4a2a-858d-b498b2034ae5"
      },
      "execution_count": 20,
      "outputs": [
        {
          "output_type": "stream",
          "name": "stdout",
          "text": [
            "Summary: \n",
            "Stunning standing lamp with sleek design, adjustable height, warm light, perfect for any room. Highly recommended for elegance.\n",
            "Impressive quality, sturdy base, dimmable feature, minimalist design, long-lasting investment. Highly recommended for home decor.\n",
            "Stylish standing lamp with vibrant shade, adjustable neck, and energy-efficient LED bulb - a practical and colorful addition.\n",
            "Exceeded expectations with high-quality craftsmanship, modern design, and cozy ambiance. Highly recommended for stylish lighting solution.\n"
          ]
        }
      ]
    },
    {
      "cell_type": "code",
      "source": [
        "third_random_reviews = create_reviews(\"Magic mask will make u turn superpowerful\")\n",
        "for review in third_random_reviews:\n",
        "    print(review)\n",
        "summarize_reviews(third_random_reviews, 1)"
      ],
      "metadata": {
        "colab": {
          "base_uri": "https://localhost:8080/"
        },
        "id": "N0XL_itmOEkM",
        "outputId": "d88f0382-87b7-4fc6-c256-9a54ac57344e"
      },
      "execution_count": 21,
      "outputs": [
        {
          "output_type": "stream",
          "name": "stdout",
          "text": [
            "This magic mask is truly incredible! After using it, I felt a surge of power and energy coursing through my veins. I felt like I could conquer the world with just a flick of my wrist. The transformation was instant and I could feel myself becoming superpowerful in every way. I highly recommend this mask to anyone looking to unlock their inner superhero. \n",
            "\n",
            "\n",
            "I was skeptical at first, but this magic mask truly delivered on its promise. I felt a sense of strength and invincibility wash over me as soon as I put it on. It was like I had been given a gift of superpowers that I never knew I had. I felt unstoppable and ready to take on any challenge that came my way. This mask is a game-changer and I will definitely be using it again. \n",
            "\n",
            "\n",
            "I have never felt more powerful than when I used this magic mask. It was like a wave of energy washed over me and I could feel myself transforming into a superhero right before my eyes. The mask gave me the confidence and strength to take on anything that came my way. I felt like I could move mountains and nothing could stand in my way. This mask is truly magical and I can't wait to see what other superpowers it unlocks in me. \n",
            "\n",
            "\n",
            "I am amazed by the results of this magic mask. Not only did it make me feel superpowerful, but it also gave me a sense of clarity and focus that I had never experienced before. I felt like I could see things more clearly and make decisions with ease. The mask truly unlocked something within me that I never knew existed. I feel like a completely different person after using it and I can't wait to see how it continues to enhance my life.\n",
            "Summary: \n",
            "\"Transformative mask unleashes inner superhero, providing surge of power and energy for conquering the world effortlessly.\"\n",
            "This magic mask exceeded expectations, providing a sense of strength and invincibility. A game-changer for facing challenges.\n",
            "This magic mask made me feel like a superhero, giving me confidence and strength to conquer anything. Truly magical!\n",
            "This magic mask brought clarity, focus, and a sense of empowerment, transforming the user's perspective and decision-making abilities.\n"
          ]
        }
      ]
    },
    {
      "cell_type": "markdown",
      "source": [
        "the summary was helpful and that the model was able to understand the context and provide a coherent summary without any hallucination. The ability to accurately summarize text is an important capability for language models"
      ],
      "metadata": {
        "id": "o_pSe2b2O0Ze"
      }
    }
  ],
  "metadata": {
    "kernelspec": {
      "display_name": "Python 3 (ipykernel)",
      "language": "python",
      "name": "python3"
    },
    "language_info": {
      "codemirror_mode": {
        "name": "ipython",
        "version": 3
      },
      "file_extension": ".py",
      "mimetype": "text/x-python",
      "name": "python",
      "nbconvert_exporter": "python",
      "pygments_lexer": "ipython3",
      "version": "3.11.8"
    },
    "colab": {
      "provenance": []
    }
  },
  "nbformat": 4,
  "nbformat_minor": 0
}